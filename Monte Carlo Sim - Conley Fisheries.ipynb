{
 "cells": [
  {
   "cell_type": "code",
   "execution_count": 5,
   "metadata": {},
   "outputs": [],
   "source": [
    "import pandas as pd\n",
    "import numpy as np"
   ]
  },
  {
   "cell_type": "markdown",
   "metadata": {},
   "source": [
    "## Definition"
   ]
  },
  {
   "cell_type": "code",
   "execution_count": 6,
   "metadata": {},
   "outputs": [],
   "source": [
    "# Daily Sales Price/lb: mean = 3.65, sigma = 0.2\n",
    "# Demand:\n",
    "# 0: 0.02\n",
    "# 1000: 0.03\n",
    "# 2000: 0.05\n",
    "# 3000: 0.08\n",
    "# 4000: 0.33\n",
    "# 5000: 0.29\n",
    "# 6000: 0.20\n",
    "\n",
    "# Daily Earning: SalesPrice * min(3500, Demand) - 10000"
   ]
  },
  {
   "cell_type": "markdown",
   "metadata": {},
   "source": [
    "## Setting Parameteres"
   ]
  },
  {
   "cell_type": "code",
   "execution_count": 17,
   "metadata": {},
   "outputs": [],
   "source": [
    "n = 200\n",
    "SalesPriceMean = 3.65\n",
    "SalesPriceStd = 0.2\n",
    "DailyOpCost = 10000\n",
    "BoatCapacity = 3500"
   ]
  },
  {
   "cell_type": "markdown",
   "metadata": {},
   "source": [
    "## Define Demand Mapping as Discrete Random Variable"
   ]
  },
  {
   "cell_type": "code",
   "execution_count": 18,
   "metadata": {},
   "outputs": [],
   "source": [
    "def demandMap(x):\n",
    "    if (x > 0.0) & (x <= 0.02):\n",
    "        return 0.0\n",
    "    elif (x > 0.02) & (x <= 0.05):\n",
    "        return 1000.0\n",
    "    elif (x > 0.05) & (x <= 0.1):\n",
    "        return 2000.0\n",
    "    elif (x > 0.1) & (x <= 0.18):\n",
    "        return 3000.0\n",
    "    elif (x > 0.18) & (x <= 0.51):\n",
    "        return 4000.0\n",
    "    elif (x > 0.51) & (x <= 0.8):\n",
    "        return 5000.0\n",
    "    else:\n",
    "        return 6000.0"
   ]
  },
  {
   "cell_type": "markdown",
   "metadata": {},
   "source": [
    "## Generate Random Numbers as Demand, Sales Price, and Quantity Sold"
   ]
  },
  {
   "cell_type": "code",
   "execution_count": 19,
   "metadata": {},
   "outputs": [],
   "source": [
    "Demand = pd.Series(np.random.uniform(0, 1, n)).apply(demandMap)\n",
    "SalesPrices = pd.Series(np.random.normal(SalesPriceMean, SalesPriceStd, n))\n",
    "QuantitySold = Demand.apply(lambda x: min(x, BoatCapacity))\n",
    "\n",
    "Simulation = pd.DataFrame({\n",
    "    'Demand': Demand,\n",
    "    'SalesPrice': SalesPrices,\n",
    "    'QuantitySold': QuantitySold\n",
    "})"
   ]
  },
  {
   "cell_type": "markdown",
   "metadata": {},
   "source": [
    "## Calculate Daily Earnings"
   ]
  },
  {
   "cell_type": "code",
   "execution_count": 20,
   "metadata": {},
   "outputs": [],
   "source": [
    "DailyEarnings = Simulation.apply(lambda x: x.SalesPrice * x.QuantitySold - DailyOpCost, axis=1)"
   ]
  },
  {
   "cell_type": "markdown",
   "metadata": {},
   "source": [
    "## 1. Shape of Daily Earnings"
   ]
  },
  {
   "cell_type": "code",
   "execution_count": 21,
   "metadata": {},
   "outputs": [
    {
     "data": {
      "text/plain": [
       "<matplotlib.axes._subplots.AxesSubplot at 0x187ec792c70>"
      ]
     },
     "execution_count": 21,
     "metadata": {},
     "output_type": "execute_result"
    },
    {
     "data": {
      "image/png": "[encoded data removed]",
      "text/plain": [
       "<Figure size 432x288 with 1 Axes>"
      ]
     },
     "metadata": {
      "needs_background": "light"
     },
     "output_type": "display_data"
    }
   ],
   "source": [
    "DailyEarnings.hist()"
   ]
  },
  {
   "cell_type": "markdown",
   "metadata": {},
   "source": [
    "## 2. P(F > $1375)"
   ]
  },
  {
   "cell_type": "code",
   "execution_count": 22,
   "metadata": {},
   "outputs": [
    {
     "data": {
      "text/plain": [
       "0.86"
      ]
     },
     "execution_count": 22,
     "metadata": {},
     "output_type": "execute_result"
    }
   ],
   "source": [
    "(DailyEarnings > 1375).sum() / n"
   ]
  },
  {
   "cell_type": "markdown",
   "metadata": {},
   "source": [
    "## 3. P(F < $0)"
   ]
  },
  {
   "cell_type": "code",
   "execution_count": 23,
   "metadata": {},
   "outputs": [
    {
     "data": {
      "text/plain": [
       "0.09"
      ]
     },
     "execution_count": 23,
     "metadata": {},
     "output_type": "execute_result"
    }
   ],
   "source": [
    "(DailyEarnings < 0).sum() / n"
   ]
  },
  {
   "cell_type": "markdown",
   "metadata": {},
   "source": [
    "## 4. Expected Daily Earnings"
   ]
  },
  {
   "cell_type": "code",
   "execution_count": 24,
   "metadata": {},
   "outputs": [
    {
     "data": {
      "text/plain": [
       "2056.5378807835978"
      ]
     },
     "execution_count": 24,
     "metadata": {},
     "output_type": "execute_result"
    }
   ],
   "source": [
    "DailyEarnings.mean()"
   ]
  },
  {
   "cell_type": "markdown",
   "metadata": {},
   "source": [
    "## 5. Variability of Daily Earnings"
   ]
  },
  {
   "cell_type": "code",
   "execution_count": 25,
   "metadata": {},
   "outputs": [
    {
     "data": {
      "text/plain": [
       "2666.408061678025"
      ]
     },
     "execution_count": 25,
     "metadata": {},
     "output_type": "execute_result"
    }
   ],
   "source": [
    "DailyEarnings.var() ** 0.5"
   ]
  }
 ],
 "metadata": {
  "kernelspec": {
   "display_name": "Python 3",
   "language": "python",
   "name": "python3"
  },
  "language_info": {
   "codemirror_mode": {
    "name": "ipython",
    "version": 3
   },
   "file_extension": ".py",
   "mimetype": "text/x-python",
   "name": "python",
   "nbconvert_exporter": "python",
   "pygments_lexer": "ipython3",
   "version": "3.8.3"
  }
 },
 "nbformat": 4,
 "nbformat_minor": 4
}
