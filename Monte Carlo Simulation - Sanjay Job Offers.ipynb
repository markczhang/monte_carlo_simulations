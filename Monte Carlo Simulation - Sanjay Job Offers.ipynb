{
 "cells": [
  {
   "cell_type": "code",
   "execution_count": 1,
   "metadata": {},
   "outputs": [],
   "source": [
    "import numpy as np\n",
    "import pandas as pd"
   ]
  },
  {
   "cell_type": "code",
   "execution_count": 2,
   "metadata": {},
   "outputs": [
    {
     "data": {
      "text/plain": [
       "array([0.1 , 0.4 , 0.75, 1.  ])"
      ]
     },
     "execution_count": 2,
     "metadata": {},
     "output_type": "execute_result"
    }
   ],
   "source": [
    "MealPrice = {\n",
    "    0.1: 15,\n",
    "    0.3: 16.5,\n",
    "    0.35: 18.5,\n",
    "    0.25: 20\n",
    "}\n",
    "\n",
    "np.array(list(MealPrice.keys())).cumsum()"
   ]
  },
  {
   "cell_type": "code",
   "execution_count": 3,
   "metadata": {},
   "outputs": [],
   "source": [
    "def MealPriceMap(x):\n",
    "    if x <= 0.1: return 15\n",
    "    elif (x > 0.1) & (x <= 0.4): return 16.5\n",
    "    elif (x > 0.4) & (x <= 0.75): return 18.5\n",
    "    else: return 20\n",
    "    \n",
    "def SolEarning(x):\n",
    "    return x.MealsSold * x.MealPrice - x.MealsSold * 11 - x.LaborCost - 3995\n",
    "\n",
    "def PartEarnings(x):\n",
    "    earning = x.MealsSold * x.MealPrice - x.MealsSold * 11 - x.LaborCost - 3995\n",
    "    if earning <= 3500: \n",
    "        return 3500\n",
    "    elif earning >= 9000:\n",
    "        return 9000 + 0.1 * (earning - 9000)"
   ]
  },
  {
   "cell_type": "code",
   "execution_count": 4,
   "metadata": {},
   "outputs": [],
   "source": [
    "n = 10000\n",
    "MealsSoldMean = 3000\n",
    "MealsSoldStd = 1000\n",
    "Salary_Consulting = 80000 / 12"
   ]
  },
  {
   "cell_type": "code",
   "execution_count": 5,
   "metadata": {},
   "outputs": [],
   "source": [
    "MealsSold = pd.Series(np.random.normal(MealsSoldMean, MealsSoldStd, n)).apply(np.round)\n",
    "MealPrices = pd.Series(np.random.uniform(size=n)).apply(MealPriceMap)\n",
    "LaborCosts = pd.Series(np.random.uniform(5040, 6860, n))\n",
    "\n",
    "Simulation = pd.DataFrame({\n",
    "    'MealsSold': MealsSold,\n",
    "    'MealPrice': MealPrices,\n",
    "    'LaborCost': LaborCosts\n",
    "})"
   ]
  },
  {
   "cell_type": "code",
   "execution_count": 6,
   "metadata": {},
   "outputs": [],
   "source": [
    "Earning_Sol = Simulation.apply(SolEarning, axis=1)\n",
    "Earning_Part = Simulation.apply(PartEarnings, axis=1)"
   ]
  },
  {
   "cell_type": "code",
   "execution_count": 7,
   "metadata": {},
   "outputs": [
    {
     "data": {
      "text/plain": [
       "(10827.06425879245, 8526.482819342456)"
      ]
     },
     "execution_count": 7,
     "metadata": {},
     "output_type": "execute_result"
    }
   ],
   "source": [
    "Earning_Sol.mean(), Earning_Sol.std()"
   ]
  },
  {
   "cell_type": "code",
   "execution_count": 8,
   "metadata": {},
   "outputs": [
    {
     "data": {
      "text/plain": [
       "(8088.6654969781175, 2848.2649661964433)"
      ]
     },
     "execution_count": 8,
     "metadata": {},
     "output_type": "execute_result"
    }
   ],
   "source": [
    "Earning_Part.mean(), Earning_Part.std()"
   ]
  },
  {
   "cell_type": "code",
   "execution_count": 9,
   "metadata": {},
   "outputs": [
    {
     "data": {
      "text/plain": [
       "4160.397592125783"
      ]
     },
     "execution_count": 9,
     "metadata": {},
     "output_type": "execute_result"
    }
   ],
   "source": [
    "Earning_Sol.mean() - Salary_Consulting"
   ]
  },
  {
   "cell_type": "code",
   "execution_count": 10,
   "metadata": {},
   "outputs": [
    {
     "data": {
      "text/plain": [
       "0.7298"
      ]
     },
     "execution_count": 10,
     "metadata": {},
     "output_type": "execute_result"
    }
   ],
   "source": [
    "(Earning_Sol >= 5000).sum() / n"
   ]
  },
  {
   "cell_type": "code",
   "execution_count": 11,
   "metadata": {},
   "outputs": [
    {
     "data": {
      "text/plain": [
       "0.5454"
      ]
     },
     "execution_count": 11,
     "metadata": {},
     "output_type": "execute_result"
    }
   ],
   "source": [
    "(Earning_Part >= 5000).sum() / n"
   ]
  },
  {
   "cell_type": "code",
   "execution_count": 12,
   "metadata": {},
   "outputs": [
    {
     "data": {
      "text/plain": [
       "0.0837"
      ]
     },
     "execution_count": 12,
     "metadata": {},
     "output_type": "execute_result"
    }
   ],
   "source": [
    "(Earning_Sol < 0).sum() / n"
   ]
  },
  {
   "cell_type": "code",
   "execution_count": null,
   "metadata": {},
   "outputs": [],
   "source": []
  }
 ],
 "metadata": {
  "kernelspec": {
   "display_name": "Python 3",
   "language": "python",
   "name": "python3"
  },
  "language_info": {
   "codemirror_mode": {
    "name": "ipython",
    "version": 3
   },
   "file_extension": ".py",
   "mimetype": "text/x-python",
   "name": "python",
   "nbconvert_exporter": "python",
   "pygments_lexer": "ipython3",
   "version": "3.8.3"
  }
 },
 "nbformat": 4,
 "nbformat_minor": 2
}
